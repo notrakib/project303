{
 "cells": [
  {
   "cell_type": "code",
   "execution_count": 1,
   "metadata": {},
   "outputs": [],
   "source": [
    "import numpy as np\n",
    "import pandas as pd\n",
    "import seaborn as sns\n",
    "import matplotlib.pyplot as plt\n",
    "from sklearn.preprocessing import LabelEncoder\n",
    "from sklearn.preprocessing import StandardScaler\n",
    "from sklearn.decomposition import PCA\n",
    "from sklearn.linear_model import LogisticRegression\n",
    "from sklearn.metrics import classification_report, confusion_matrix, plot_confusion_matrix\n",
    "from sklearn.metrics import roc_auc_score"
   ]
  },
  {
   "cell_type": "code",
   "execution_count": 2,
   "metadata": {},
   "outputs": [],
   "source": [
    "train_data = pd.read_csv('train.csv')"
   ]
  },
  {
   "cell_type": "code",
   "execution_count": 3,
   "metadata": {},
   "outputs": [
    {
     "name": "stdout",
     "output_type": "stream",
     "text": [
      "<class 'pandas.core.frame.DataFrame'>\n",
      "RangeIndex: 300000 entries, 0 to 299999\n",
      "Data columns (total 31 columns):\n",
      " #   Column  Non-Null Count   Dtype  \n",
      "---  ------  --------------   -----  \n",
      " 0   cat0    300000 non-null  object \n",
      " 1   cat1    300000 non-null  object \n",
      " 2   cat2    300000 non-null  object \n",
      " 3   cat3    300000 non-null  object \n",
      " 4   cat4    300000 non-null  object \n",
      " 5   cat5    300000 non-null  object \n",
      " 6   cat6    300000 non-null  object \n",
      " 7   cat7    300000 non-null  object \n",
      " 8   cat8    300000 non-null  object \n",
      " 9   cat9    300000 non-null  object \n",
      " 10  cat10   300000 non-null  object \n",
      " 11  cat11   300000 non-null  object \n",
      " 12  cat12   300000 non-null  object \n",
      " 13  cat13   300000 non-null  object \n",
      " 14  cat14   300000 non-null  object \n",
      " 15  cat15   300000 non-null  object \n",
      " 16  cat16   300000 non-null  object \n",
      " 17  cat17   300000 non-null  object \n",
      " 18  cat18   300000 non-null  object \n",
      " 19  cont0   300000 non-null  float64\n",
      " 20  cont1   300000 non-null  float64\n",
      " 21  cont2   300000 non-null  float64\n",
      " 22  cont3   300000 non-null  float64\n",
      " 23  cont4   300000 non-null  float64\n",
      " 24  cont5   300000 non-null  float64\n",
      " 25  cont6   300000 non-null  float64\n",
      " 26  cont7   300000 non-null  float64\n",
      " 27  cont8   300000 non-null  float64\n",
      " 28  cont9   300000 non-null  float64\n",
      " 29  cont10  300000 non-null  float64\n",
      " 30  target  300000 non-null  int64  \n",
      "dtypes: float64(11), int64(1), object(19)\n",
      "memory usage: 71.0+ MB\n",
      "None\n"
     ]
    }
   ],
   "source": [
    "train_data= train_data.drop('id',axis=1)\n",
    "print(train_data.info())\n",
    "#there is no null value row in this train dataset"
   ]
  },
  {
   "cell_type": "code",
   "execution_count": 4,
   "metadata": {},
   "outputs": [],
   "source": [
    "# Simple encoding Catagorical values\n",
    "Label_Encoder = LabelEncoder()\n",
    "columns = [i for i in train_data.columns if train_data[i].dtype]\n",
    "train_data[columns] = train_data[columns].apply(LabelEncoder().fit_transform)"
   ]
  },
  {
   "cell_type": "code",
   "execution_count": 5,
   "metadata": {},
   "outputs": [
    {
     "name": "stdout",
     "output_type": "stream",
     "text": [
      "<class 'pandas.core.frame.DataFrame'>\n",
      "RangeIndex: 300000 entries, 0 to 299999\n",
      "Data columns (total 31 columns):\n",
      " #   Column  Non-Null Count   Dtype\n",
      "---  ------  --------------   -----\n",
      " 0   cat0    300000 non-null  int64\n",
      " 1   cat1    300000 non-null  int64\n",
      " 2   cat2    300000 non-null  int64\n",
      " 3   cat3    300000 non-null  int64\n",
      " 4   cat4    300000 non-null  int64\n",
      " 5   cat5    300000 non-null  int64\n",
      " 6   cat6    300000 non-null  int64\n",
      " 7   cat7    300000 non-null  int64\n",
      " 8   cat8    300000 non-null  int64\n",
      " 9   cat9    300000 non-null  int64\n",
      " 10  cat10   300000 non-null  int64\n",
      " 11  cat11   300000 non-null  int64\n",
      " 12  cat12   300000 non-null  int64\n",
      " 13  cat13   300000 non-null  int64\n",
      " 14  cat14   300000 non-null  int64\n",
      " 15  cat15   300000 non-null  int64\n",
      " 16  cat16   300000 non-null  int64\n",
      " 17  cat17   300000 non-null  int64\n",
      " 18  cat18   300000 non-null  int64\n",
      " 19  cont0   300000 non-null  int64\n",
      " 20  cont1   300000 non-null  int64\n",
      " 21  cont2   300000 non-null  int64\n",
      " 22  cont3   300000 non-null  int64\n",
      " 23  cont4   300000 non-null  int64\n",
      " 24  cont5   300000 non-null  int64\n",
      " 25  cont6   300000 non-null  int64\n",
      " 26  cont7   300000 non-null  int64\n",
      " 27  cont8   300000 non-null  int64\n",
      " 28  cont9   300000 non-null  int64\n",
      " 29  cont10  300000 non-null  int64\n",
      " 30  target  300000 non-null  int64\n",
      "dtypes: int64(31)\n",
      "memory usage: 71.0 MB\n",
      "None\n"
     ]
    }
   ],
   "source": [
    "print(train_data.info())"
   ]
  },
  {
   "cell_type": "code",
   "execution_count": 6,
   "metadata": {},
   "outputs": [
    {
     "name": "stdout",
     "output_type": "stream",
     "text": [
      "[[-0.5849203  -0.03985428 -0.63495693 ...  1.53527194  1.70100252\n",
      "   1.10210229]\n",
      " [-0.5849203  -0.03985428 -0.63495693 ... -0.10328085  1.6380739\n",
      "   0.34190269]\n",
      " [-0.5849203   0.61135943 -0.63495693 ...  0.01100965 -1.05673135\n",
      "   0.80838828]\n",
      " ...\n",
      " [-0.5849203  -0.69106799  2.26617448 ... -0.5260702   0.50042564\n",
      "   0.0624342 ]\n",
      " [ 1.70963464 -0.36546113 -0.63495693 ...  1.11468937 -0.75448451\n",
      "  -1.03109648]\n",
      " [-0.5849203  -1.01667485 -0.15143503 ...  1.54707995 -0.58870046\n",
      "   1.69641621]]\n"
     ]
    }
   ],
   "source": [
    "# Standard scaling\n",
    "X = train_data.drop('target',axis=1)\n",
    "Y = train_data['target']\n",
    "Standard_Scaler = StandardScaler()\n",
    "Standard_Scaler.fit(X)\n",
    "X_Standard = Standard_Scaler.fit_transform(X)\n",
    "print(X_Standard)"
   ]
  },
  {
   "cell_type": "code",
   "execution_count": 7,
   "metadata": {},
   "outputs": [
    {
     "name": "stdout",
     "output_type": "stream",
     "text": [
      "[[-3.77433534 -1.04176694 -0.43010367 ... -0.33431947 -0.06171884\n",
      "   0.61561058]\n",
      " [ 0.53272981  0.45975412  0.65946218 ...  0.92926046  0.36218061\n",
      "   0.85478234]\n",
      " [ 0.48351012 -2.81731424 -0.00777292 ...  0.19756268 -0.03356849\n",
      "   0.12760817]\n",
      " ...\n",
      " [ 1.12874842  4.46604654  0.20646657 ...  1.25536577 -0.21848066\n",
      "  -0.29456594]\n",
      " [-0.36786944 -0.61387248  0.98334318 ... -2.0929861   1.60414522\n",
      "   0.83000995]\n",
      " [-4.14661446 -0.9991506  -1.62841783 ... -0.65892591 -0.18361895\n",
      "  -0.0934166 ]]\n"
     ]
    }
   ],
   "source": [
    "pca = PCA(0.95)\n",
    "pca.fit(X_Standard)\n",
    "X = pca.transform(X_Standard)\n",
    "print(X)"
   ]
  },
  {
   "cell_type": "code",
   "execution_count": 8,
   "metadata": {},
   "outputs": [
    {
     "name": "stdout",
     "output_type": "stream",
     "text": [
      "Score =  0.8367433333333333\n"
     ]
    }
   ],
   "source": [
    "model_LR = LogisticRegression(C=1,solver='liblinear')\n",
    "model_LR.fit(X,Y)\n",
    "print('Score = ',model_LR.score(X,Y))"
   ]
  },
  {
   "cell_type": "code",
   "execution_count": 9,
   "metadata": {},
   "outputs": [
    {
     "name": "stdout",
     "output_type": "stream",
     "text": [
      "              precision    recall  f1-score   support\n",
      "\n",
      "           0       0.86      0.93      0.89    220539\n",
      "           1       0.74      0.59      0.66     79461\n",
      "\n",
      "    accuracy                           0.84    300000\n",
      "   macro avg       0.80      0.76      0.77    300000\n",
      "weighted avg       0.83      0.84      0.83    300000\n",
      "\n"
     ]
    }
   ],
   "source": [
    "predict = model_LR.predict(X)\n",
    "print(classification_report(Y,predict))"
   ]
  },
  {
   "cell_type": "code",
   "execution_count": 10,
   "metadata": {},
   "outputs": [],
   "source": [
    "confusion_matrix_y_train = confusion_matrix(Y,predict)"
   ]
  },
  {
   "cell_type": "code",
   "execution_count": 11,
   "metadata": {},
   "outputs": [
    {
     "name": "stdout",
     "output_type": "stream",
     "text": [
      "Confusion Matrix :\n",
      "  [[204505  16034]\n",
      " [ 32943  46518]]\n"
     ]
    },
    {
     "name": "stderr",
     "output_type": "stream",
     "text": [
      "/home/rakib/.local/lib/python3.10/site-packages/sklearn/utils/deprecation.py:87: FutureWarning: Function plot_confusion_matrix is deprecated; Function `plot_confusion_matrix` is deprecated in 1.0 and will be removed in 1.2. Use one of the class methods: ConfusionMatrixDisplay.from_predictions or ConfusionMatrixDisplay.from_estimator.\n",
      "  warnings.warn(msg, category=FutureWarning)\n"
     ]
    },
    {
     "name": "stdout",
     "output_type": "stream",
     "text": [
      "ROC AUC Score: 0.7563577840742061\n"
     ]
    },
    {
     "data": {
      "image/png": "[encoded data removed]",
      "text/plain": [
       "<Figure size 640x480 with 2 Axes>"
      ]
     },
     "metadata": {},
     "output_type": "display_data"
    }
   ],
   "source": [
    "print('Confusion Matrix :\\n ',confusion_matrix_y_train)\n",
    "plot_confusion_matrix(model_LR, X, Y, cmap='OrRd', values_format = '.1f')\n",
    "roc = roc_auc_score(Y, predict)\n",
    "print('ROC AUC Score:',roc)"
   ]
  },
  {
   "cell_type": "code",
   "execution_count": 12,
   "metadata": {},
   "outputs": [],
   "source": [
    "test_data = pd.read_csv('test.csv')"
   ]
  },
  {
   "cell_type": "code",
   "execution_count": 13,
   "metadata": {},
   "outputs": [
    {
     "name": "stdout",
     "output_type": "stream",
     "text": [
      "<class 'pandas.core.frame.DataFrame'>\n",
      "RangeIndex: 200000 entries, 0 to 199999\n",
      "Data columns (total 30 columns):\n",
      " #   Column  Non-Null Count   Dtype  \n",
      "---  ------  --------------   -----  \n",
      " 0   cat0    200000 non-null  object \n",
      " 1   cat1    200000 non-null  object \n",
      " 2   cat2    200000 non-null  object \n",
      " 3   cat3    200000 non-null  object \n",
      " 4   cat4    200000 non-null  object \n",
      " 5   cat5    200000 non-null  object \n",
      " 6   cat6    200000 non-null  object \n",
      " 7   cat7    200000 non-null  object \n",
      " 8   cat8    200000 non-null  object \n",
      " 9   cat9    200000 non-null  object \n",
      " 10  cat10   200000 non-null  object \n",
      " 11  cat11   200000 non-null  object \n",
      " 12  cat12   200000 non-null  object \n",
      " 13  cat13   200000 non-null  object \n",
      " 14  cat14   200000 non-null  object \n",
      " 15  cat15   200000 non-null  object \n",
      " 16  cat16   200000 non-null  object \n",
      " 17  cat17   200000 non-null  object \n",
      " 18  cat18   200000 non-null  object \n",
      " 19  cont0   200000 non-null  float64\n",
      " 20  cont1   200000 non-null  float64\n",
      " 21  cont2   200000 non-null  float64\n",
      " 22  cont3   200000 non-null  float64\n",
      " 23  cont4   200000 non-null  float64\n",
      " 24  cont5   200000 non-null  float64\n",
      " 25  cont6   200000 non-null  float64\n",
      " 26  cont7   200000 non-null  float64\n",
      " 27  cont8   200000 non-null  float64\n",
      " 28  cont9   200000 non-null  float64\n",
      " 29  cont10  200000 non-null  float64\n",
      "dtypes: float64(11), object(19)\n",
      "memory usage: 45.8+ MB\n",
      "None\n"
     ]
    }
   ],
   "source": [
    "ID= test_data['id']\n",
    "test_data= test_data.drop('id',axis=1)\n",
    "print(test_data.info())\n",
    "#there is no null value row in this train dataset"
   ]
  },
  {
   "cell_type": "code",
   "execution_count": 14,
   "metadata": {},
   "outputs": [
    {
     "name": "stdout",
     "output_type": "stream",
     "text": [
      "<class 'pandas.core.frame.DataFrame'>\n",
      "RangeIndex: 200000 entries, 0 to 199999\n",
      "Data columns (total 30 columns):\n",
      " #   Column  Non-Null Count   Dtype\n",
      "---  ------  --------------   -----\n",
      " 0   cat0    200000 non-null  int64\n",
      " 1   cat1    200000 non-null  int64\n",
      " 2   cat2    200000 non-null  int64\n",
      " 3   cat3    200000 non-null  int64\n",
      " 4   cat4    200000 non-null  int64\n",
      " 5   cat5    200000 non-null  int64\n",
      " 6   cat6    200000 non-null  int64\n",
      " 7   cat7    200000 non-null  int64\n",
      " 8   cat8    200000 non-null  int64\n",
      " 9   cat9    200000 non-null  int64\n",
      " 10  cat10   200000 non-null  int64\n",
      " 11  cat11   200000 non-null  int64\n",
      " 12  cat12   200000 non-null  int64\n",
      " 13  cat13   200000 non-null  int64\n",
      " 14  cat14   200000 non-null  int64\n",
      " 15  cat15   200000 non-null  int64\n",
      " 16  cat16   200000 non-null  int64\n",
      " 17  cat17   200000 non-null  int64\n",
      " 18  cat18   200000 non-null  int64\n",
      " 19  cont0   200000 non-null  int64\n",
      " 20  cont1   200000 non-null  int64\n",
      " 21  cont2   200000 non-null  int64\n",
      " 22  cont3   200000 non-null  int64\n",
      " 23  cont4   200000 non-null  int64\n",
      " 24  cont5   200000 non-null  int64\n",
      " 25  cont6   200000 non-null  int64\n",
      " 26  cont7   200000 non-null  int64\n",
      " 27  cont8   200000 non-null  int64\n",
      " 28  cont9   200000 non-null  int64\n",
      " 29  cont10  200000 non-null  int64\n",
      "dtypes: int64(30)\n",
      "memory usage: 45.8 MB\n",
      "None\n"
     ]
    }
   ],
   "source": [
    "# Simple encoding Catagorical values\n",
    "Label_Encoder = LabelEncoder()\n",
    "columns = [i for i in test_data.columns if test_data[i].dtype]\n",
    "test_data[columns] = test_data[columns].apply(LabelEncoder().fit_transform)\n",
    "print(test_data.info())"
   ]
  },
  {
   "cell_type": "code",
   "execution_count": 15,
   "metadata": {},
   "outputs": [
    {
     "name": "stdout",
     "output_type": "stream",
     "text": [
      "[[-0.58487154 -1.01120305 -0.63623041 ...  0.8042939  -0.2397787\n",
      "   1.53845669]\n",
      " [-0.58487154 -0.36206283 -0.15275887 ... -1.09188024  0.76176428\n",
      "  -0.66444274]\n",
      " [-0.58487154  1.58535784 -0.15275887 ... -1.20102665 -1.5852009\n",
      "  -0.25399171]\n",
      " ...\n",
      " [-0.58487154  0.93621762  0.08897689 ...  1.52926242  0.60540043\n",
      "   0.67726846]\n",
      " [-0.58487154  0.61164751 -0.63623041 ...  0.16901293  1.20161018\n",
      "  -0.75903292]\n",
      " [-0.58487154  0.61164751 -0.63623041 ...  0.59762789 -1.25152649\n",
      "   0.01466936]]\n"
     ]
    }
   ],
   "source": [
    "Standard_Scaler_test = StandardScaler()\n",
    "Standard_Scaler_test.fit(test_data)\n",
    "X_test = Standard_Scaler.fit_transform(test_data)\n",
    "print(X_test)"
   ]
  },
  {
   "cell_type": "code",
   "execution_count": 16,
   "metadata": {},
   "outputs": [
    {
     "name": "stdout",
     "output_type": "stream",
     "text": [
      "[[-2.64213569 -0.61384267 -0.24669965 ...  0.18159089 -0.19788502\n",
      "  -0.17216412]\n",
      " [-0.55446046  1.81836225 -1.46461336 ...  0.95098651 -0.10127752\n",
      "   0.17047086]\n",
      " [ 2.11260178 -0.03114166 -0.17120766 ... -0.04665877  0.23066847\n",
      "   0.2813825 ]\n",
      " ...\n",
      " [-2.07786002  2.41253846  1.33379867 ... -0.5317544  -0.02531556\n",
      "   0.4151883 ]\n",
      " [-1.58387234 -0.62296242  1.52104199 ... -0.35412225  0.15682509\n",
      "   0.10220919]\n",
      " [ 1.51838527 -0.5312295   0.83889172 ...  0.11230909 -1.02587546\n",
      "   0.89898783]]\n"
     ]
    }
   ],
   "source": [
    "pca = PCA(0.95)\n",
    "pca.fit(X_test)\n",
    "X_testdata = pca.transform(X_test)\n",
    "print(X_testdata)"
   ]
  },
  {
   "cell_type": "code",
   "execution_count": 17,
   "metadata": {},
   "outputs": [
    {
     "name": "stdout",
     "output_type": "stream",
     "text": [
      "[0 1 0 ... 1 0 0]\n"
     ]
    }
   ],
   "source": [
    "lr_predictions = model_LR.predict(X_testdata) \n",
    "print(lr_predictions)"
   ]
  },
  {
   "cell_type": "code",
   "execution_count": 18,
   "metadata": {},
   "outputs": [],
   "source": [
    "data = pd.DataFrame()\n",
    "data['id'] = ID\n",
    "data['target'] = lr_predictions"
   ]
  },
  {
   "cell_type": "code",
   "execution_count": null,
   "metadata": {},
   "outputs": [],
   "source": [
    "data.to_csv('Base_logistic_Regression_model_output.csv', index=False)\n",
    "print(\"Output File has been created\")\n"
   ]
  }
 ],
 "metadata": {
  "kernelspec": {
   "display_name": "Python 3.10.4 64-bit",
   "language": "python",
   "name": "python3"
  },
  "language_info": {
   "codemirror_mode": {
    "name": "ipython",
    "version": 3
   },
   "file_extension": ".py",
   "mimetype": "text/x-python",
   "name": "python",
   "nbconvert_exporter": "python",
   "pygments_lexer": "ipython3",
   "version": "3.10.4"
  },
  "orig_nbformat": 4,
  "vscode": {
   "interpreter": {
    "hash": "916dbcbb3f70747c44a77c7bcd40155683ae19c65e1c03b4aa3499c5328201f1"
   }
  }
 },
 "nbformat": 4,
 "nbformat_minor": 2
}
